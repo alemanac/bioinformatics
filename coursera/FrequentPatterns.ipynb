{
 "cells": [
  {
   "cell_type": "code",
   "execution_count": 1,
   "metadata": {},
   "outputs": [],
   "source": [
    "def FrequencyTable(DNA, SubstringSize):\n",
    "\n",
    "    FrequencyDictionary = {}\n",
    "\n",
    "    for i in range(len(DNA) - SubstringSize + 1):\n",
    "        if DNA[i : i + SubstringSize : 1] in FrequencyDictionary:\n",
    "            FrequencyDictionary[DNA[i : i + SubstringSize : 1]] += 1\n",
    "        else:\n",
    "            FrequencyDictionary[DNA[i : i + SubstringSize : 1]] = 1\n",
    "\n",
    "    return FrequencyDictionary\n",
    "\n",
    "\n",
    "\n",
    "def BiggestFrequencyCount(FrequencyDictionary):\n",
    "\n",
    "    BiggestFrequency = 0\n",
    "\n",
    "    for key in FrequencyDictionary:\n",
    "        if FrequencyDictionary[key] > BiggestFrequency:\n",
    "            BiggestFrequency = FrequencyDictionary[key]\n",
    "\n",
    "    return BiggestFrequency\n",
    "\n",
    "\n",
    "\n",
    "def BiggestFrequentSubstring(DNA, SubstringSize):\n",
    "    BiggestFrequentSubstring = []\n",
    "\n",
    "    localFrequencyDictionary = FrequencyTable(DNA, SubstringSize)\n",
    "    localBiggestFrequency = BiggestFrequencyCount(localFrequencyDictionary)\n",
    "\n",
    "\n",
    "    for key in localFrequencyDictionary:\n",
    "        if localFrequencyDictionary[key] == localBiggestFrequency:\n",
    "            BiggestFrequentSubstring.append(key)\n",
    "\n",
    "    return BiggestFrequentSubstring"
   ]
  },
  {
   "cell_type": "code",
   "execution_count": 2,
   "metadata": {},
   "outputs": [
    {
     "name": "stdout",
     "output_type": "stream",
     "text": [
      "['GCAT', 'CATG']\n"
     ]
    }
   ],
   "source": [
    "#xyz = []\n",
    "#xyz = function /w [] return\n",
    "#try this later\n",
    "\n",
    "print(BiggestFrequentSubstring(\"ACGTTGCATGTCGCATGATGCATGAGAGCT\", 4))"
   ]
  }
 ],
 "metadata": {
  "kernelspec": {
   "display_name": "Python 3",
   "language": "python",
   "name": "python3"
  },
  "language_info": {
   "codemirror_mode": {
    "name": "ipython",
    "version": 3
   },
   "file_extension": ".py",
   "mimetype": "text/x-python",
   "name": "python",
   "nbconvert_exporter": "python",
   "pygments_lexer": "ipython3",
   "version": "3.9.13"
  },
  "orig_nbformat": 4
 },
 "nbformat": 4,
 "nbformat_minor": 2
}
