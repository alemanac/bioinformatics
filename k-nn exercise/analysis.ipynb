{
 "cells": [
  {
   "cell_type": "markdown",
   "metadata": {},
   "source": []
  },
  {
   "cell_type": "code",
   "execution_count": 13,
   "metadata": {},
   "outputs": [],
   "source": [
    "\n",
    "\n",
    "#ap = argparse.ArgumentParser()\n",
    "#ap.add_argument(\"-d\", \"--dataset\", required=True, help = \"path to input dataset\")\n",
    "#ap.add_argument(\"-k\", \"--neighbors\", type=int, default=1, help = \"# of nearest neighbors for classification\")\n",
    "#ap.add_argument(\"-j\", \"--jobs\", type=int, default=1, help = \"# of jobs for k-NN distance (-1 uses all available cores)\")\n",
    "#args = vars(ap.parse_args())\n",
    "\n",
    "def model(dataset, neighbors=1, jobs=1):\n",
    "    from sklearn.neighbors import KNeighborsClassifier\n",
    "    from sklearn.preprocessing import LabelEncoder\n",
    "    from sklearn.model_selection import train_test_split\n",
    "    from sklearn.metrics import average_precision_score\n",
    "    from imutils import paths\n",
    "\n",
    "    from preprocessing import simplepreprocessor as spimport\n",
    "    from datasets import simpledatasetloader as sdimport\n",
    "\n",
    "    imagePaths = list(paths.list_images(dataset))\n",
    "    print(dataset)\n",
    "    print(imagePaths)\n",
    "    sp = spimport.SimplePreProcessor(32, 32)\n",
    "    sdl = sdimport.SimpleDataSetLoader(preprocessors=[sp])\n",
    "\n",
    "    print(paths.list_images(args[\"dataset\"])) #debuggy\n",
    "    print(\"imagePaths: \" + str(imagePaths)) #debuggy\n",
    "\n",
    "    print(\"[INFO] loading images...\")\n",
    "    (data, labels) = sdl.load(imagePaths, verbose = 500) \n",
    "    data = data.reshape((data.shape[0], 3072))\n",
    "        \n",
    "    print(\"[INFO] features matrix: {:.1f}MB\".format(data.nbytes / (1024 * 1024.0)))\n",
    "        \n",
    "    le = LabelEncoder()\n",
    "    labels = le.fit_transform(labels)\n",
    "\n",
    "    neighbors = neighbors\n",
    "    jobs = jobs\n",
    "    \n",
    "    (TrainX, TestX, TrainY, TestY) = train_test_split(data, labels, test_size=0.25, random_state=42)\n",
    "    model = KNeighborsClassifier(n_neighbors=neighbors, n_jobs=jobs)\n",
    "    model.fit(TrainX, TrainY)\n",
    "    \n",
    "    return average_precision_score(TestY, model.predict(TestX))"
   ]
  },
  {
   "cell_type": "code",
   "execution_count": 14,
   "metadata": {},
   "outputs": [
    {
     "ename": "ImportError",
     "evalue": "cannot import name 'simpledatasetloader' from 'datasets' (/Users/aleman/anaconda3/lib/python3.11/site-packages/datasets/__init__.py)",
     "output_type": "error",
     "traceback": [
      "\u001b[0;31m---------------------------------------------------------------------------\u001b[0m",
      "\u001b[0;31mImportError\u001b[0m                               Traceback (most recent call last)",
      "\u001b[1;32m/Users/aleman/Documents/GitHub/bioinformatics/k-nn exercise/analysis.ipynb Cell 3\u001b[0m line \u001b[0;36m8\n\u001b[1;32m      <a href='vscode-notebook-cell:/Users/aleman/Documents/GitHub/bioinformatics/k-nn%20exercise/analysis.ipynb#W2sZmlsZQ%3D%3D?line=5'>6</a>\u001b[0m y \u001b[39m=\u001b[39m []\n\u001b[1;32m      <a href='vscode-notebook-cell:/Users/aleman/Documents/GitHub/bioinformatics/k-nn%20exercise/analysis.ipynb#W2sZmlsZQ%3D%3D?line=6'>7</a>\u001b[0m \u001b[39mfor\u001b[39;00m i \u001b[39min\u001b[39;00m \u001b[39mrange\u001b[39m(\u001b[39m0\u001b[39m, \u001b[39m25\u001b[39m, \u001b[39m5\u001b[39m):\n\u001b[0;32m----> <a href='vscode-notebook-cell:/Users/aleman/Documents/GitHub/bioinformatics/k-nn%20exercise/analysis.ipynb#W2sZmlsZQ%3D%3D?line=7'>8</a>\u001b[0m     x\u001b[39m.\u001b[39mappend(model(dataset, i))\n\u001b[1;32m      <a href='vscode-notebook-cell:/Users/aleman/Documents/GitHub/bioinformatics/k-nn%20exercise/analysis.ipynb#W2sZmlsZQ%3D%3D?line=8'>9</a>\u001b[0m     y\u001b[39m.\u001b[39mappend(i)\n\u001b[1;32m     <a href='vscode-notebook-cell:/Users/aleman/Documents/GitHub/bioinformatics/k-nn%20exercise/analysis.ipynb#W2sZmlsZQ%3D%3D?line=10'>11</a>\u001b[0m plt\u001b[39m.\u001b[39mplot(x, y)\n",
      "\u001b[1;32m/Users/aleman/Documents/GitHub/bioinformatics/k-nn exercise/analysis.ipynb Cell 3\u001b[0m line \u001b[0;36m1\n\u001b[1;32m     <a href='vscode-notebook-cell:/Users/aleman/Documents/GitHub/bioinformatics/k-nn%20exercise/analysis.ipynb#W2sZmlsZQ%3D%3D?line=11'>12</a>\u001b[0m \u001b[39mfrom\u001b[39;00m \u001b[39mimutils\u001b[39;00m \u001b[39mimport\u001b[39;00m paths\n\u001b[1;32m     <a href='vscode-notebook-cell:/Users/aleman/Documents/GitHub/bioinformatics/k-nn%20exercise/analysis.ipynb#W2sZmlsZQ%3D%3D?line=13'>14</a>\u001b[0m \u001b[39mfrom\u001b[39;00m \u001b[39mpreprocessing\u001b[39;00m \u001b[39mimport\u001b[39;00m simplepreprocessor \u001b[39mas\u001b[39;00m spimport\n\u001b[0;32m---> <a href='vscode-notebook-cell:/Users/aleman/Documents/GitHub/bioinformatics/k-nn%20exercise/analysis.ipynb#W2sZmlsZQ%3D%3D?line=14'>15</a>\u001b[0m \u001b[39mfrom\u001b[39;00m \u001b[39mdatasets\u001b[39;00m \u001b[39mimport\u001b[39;00m simpledatasetloader \u001b[39mas\u001b[39;00m sdimport\n\u001b[1;32m     <a href='vscode-notebook-cell:/Users/aleman/Documents/GitHub/bioinformatics/k-nn%20exercise/analysis.ipynb#W2sZmlsZQ%3D%3D?line=16'>17</a>\u001b[0m imagePaths \u001b[39m=\u001b[39m \u001b[39mlist\u001b[39m(paths\u001b[39m.\u001b[39mlist_images(dataset))\n\u001b[1;32m     <a href='vscode-notebook-cell:/Users/aleman/Documents/GitHub/bioinformatics/k-nn%20exercise/analysis.ipynb#W2sZmlsZQ%3D%3D?line=17'>18</a>\u001b[0m \u001b[39mprint\u001b[39m(dataset)\n",
      "\u001b[0;31mImportError\u001b[0m: cannot import name 'simpledatasetloader' from 'datasets' (/Users/aleman/anaconda3/lib/python3.11/site-packages/datasets/__init__.py)"
     ]
    }
   ],
   "source": [
    "import matplotlib.pyplot as plt\n",
    "\n",
    "dataset = \"~/Documents/GitHub/bioinformatics/k-nn exercise/datasets\"\n",
    "\n",
    "x = []\n",
    "y = []\n",
    "for i in range(0, 25, 5):\n",
    "    x.append(model(dataset, i))\n",
    "    y.append(i)\n",
    "\n",
    "plt.plot(x, y)\n",
    "plt.show()"
   ]
  }
 ],
 "metadata": {
  "kernelspec": {
   "display_name": "base",
   "language": "python",
   "name": "python3"
  },
  "language_info": {
   "codemirror_mode": {
    "name": "ipython",
    "version": 3
   },
   "file_extension": ".py",
   "mimetype": "text/x-python",
   "name": "python",
   "nbconvert_exporter": "python",
   "pygments_lexer": "ipython3",
   "version": "3.11.5"
  },
  "orig_nbformat": 4
 },
 "nbformat": 4,
 "nbformat_minor": 2
}
