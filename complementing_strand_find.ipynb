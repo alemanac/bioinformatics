{
 "cells": [
  {
   "attachments": {},
   "cell_type": "markdown",
   "metadata": {},
   "source": [
    "# "
   ]
  },
  {
   "attachments": {},
   "cell_type": "markdown",
   "metadata": {},
   "source": [
    "# complimenting strand find\n",
    "\n",
    "finds a complimenting DNA strand to an inputed DNA strand"
   ]
  },
  {
   "attachments": {},
   "cell_type": "markdown",
   "metadata": {},
   "source": [
    " ## solution 1\n",
    "\n",
    "The code goes through each character in the argument, `DNA`, in reverse through a for loop. For each character, the complimenting nucleobase is added to the string, `otherStrand`."
   ]
  },
  {
   "cell_type": "code",
   "execution_count": 28,
   "metadata": {},
   "outputs": [],
   "source": [
    "def findOtherStrandSolution1(DNA):\n",
    "\n",
    "    otherStrand = \"\"\n",
    "\n",
    "    for i in range(len(DNA) - 1, -1, -1):\n",
    "\n",
    "        if DNA[i] == \"A\":\n",
    "            otherStrand += \"T\"\n",
    "        elif DNA[i] == \"T\":\n",
    "            otherStrand += \"A\"\n",
    "        elif DNA[i] == \"C\":\n",
    "            otherStrand += \"G\"\n",
    "        elif DNA[i] == \"G\":\n",
    "            otherStrand += \"C\"\n",
    "    \n",
    "    return otherStrand\n",
    "\n"
   ]
  },
  {
   "attachments": {},
   "cell_type": "markdown",
   "metadata": {},
   "source": [
    "### test"
   ]
  },
  {
   "cell_type": "code",
   "execution_count": 29,
   "metadata": {},
   "outputs": [
    {
     "name": "stdout",
     "output_type": "stream",
     "text": [
      "CGAATGTCCACCGTGATGTTCACTTCGTACACTTGAAGCTACCAGTCTTTGGTCACCCTCTGTATGGTCTGGATGATGCGATGCCTTCGTTAGGGGTCGCGAAGTTCACTTACTACCCAAGGCAGCCTGATTTTTCACAAAGCCTAATCGTTTCGGGGATTGGATGAAATAGTATCATGTTGGCTACAGACCCAACACTGGCGTTTAAAGCACGATAAGGTTGAATTATGAACCACTTTGTCCCCTTACAACAAGTGCAATGTTGCAACAGCTGGCAACCCGGCTTGCCATGACAGACGAACACCCGAAATCCGGAGCTCAAATCCTTGATCTCAAACGAACCAGTTGAGACGCGAAGCTAAGGGCCCGTGGTGAGCTCCTGGACCGGAAGGAGCAATGTGGATGCACGCCGATCATATCGTTCGCTTTGCGAGCGGTAACGCTTACTACGCCTTCCACGGCACGGTTCACATCCCTACGCTCATCTGATGGGAGAAGAAGCTTAGCGCCATAGCCCAAAGAAACGGTTGGGTTGCTATTAGCCCACGGAAATGGAGAGGGCGCGCAACGAAGGTCTATGTCAGGCACTGTACGAAACTCCATGTGTCGACAGCGTGAGTCAGGGTCGTGCCATGTGCTACAATTTCGGCTACTTGATATTTATGGGATTGCGATAATGGTAGTTAGGCTCAATGATGGGGTTGCTCGTTCTTAAGAACGGTCGTAGCTCTAATGGCAGCTCATCTCATGGAGTAATTGCATCCTCCGAGGAGAGTCGACGGAGTGGTCCTGTGTCCATTAGACTTCAATCAGTTCTTGACGCGGATTTGCAAAACGACCTGTTCTAGTTTCCAGAGGGGTTTAGGACTACAAAACCACTCAGATACGCAGGATACATCGATAACTCCCCCGTCTTCAAGTATCCAACCTTTCGCAGGGTGCAACA\n"
     ]
    }
   ],
   "source": [
    "SampleDNA = \"TGTTGCACCCTGCGAAAGGTTGGATACTTGAAGACGGGGGAGTTATCGATGTATCCTGCGTATCTGAGTGGTTTTGTAGTCCTAAACCCCTCTGGAAACTAGAACAGGTCGTTTTGCAAATCCGCGTCAAGAACTGATTGAAGTCTAATGGACACAGGACCACTCCGTCGACTCTCCTCGGAGGATGCAATTACTCCATGAGATGAGCTGCCATTAGAGCTACGACCGTTCTTAAGAACGAGCAACCCCATCATTGAGCCTAACTACCATTATCGCAATCCCATAAATATCAAGTAGCCGAAATTGTAGCACATGGCACGACCCTGACTCACGCTGTCGACACATGGAGTTTCGTACAGTGCCTGACATAGACCTTCGTTGCGCGCCCTCTCCATTTCCGTGGGCTAATAGCAACCCAACCGTTTCTTTGGGCTATGGCGCTAAGCTTCTTCTCCCATCAGATGAGCGTAGGGATGTGAACCGTGCCGTGGAAGGCGTAGTAAGCGTTACCGCTCGCAAAGCGAACGATATGATCGGCGTGCATCCACATTGCTCCTTCCGGTCCAGGAGCTCACCACGGGCCCTTAGCTTCGCGTCTCAACTGGTTCGTTTGAGATCAAGGATTTGAGCTCCGGATTTCGGGTGTTCGTCTGTCATGGCAAGCCGGGTTGCCAGCTGTTGCAACATTGCACTTGTTGTAAGGGGACAAAGTGGTTCATAATTCAACCTTATCGTGCTTTAAACGCCAGTGTTGGGTCTGTAGCCAACATGATACTATTTCATCCAATCCCCGAAACGATTAGGCTTTGTGAAAAATCAGGCTGCCTTGGGTAGTAAGTGAACTTCGCGACCCCTAACGAAGGCATCGCATCATCCAGACCATACAGAGGGTGACCAAAGACTGGTAGCTTCAAGTGTACGAAGTGAACATCACGGTGGACATTCG\"\n",
    "\n",
    "print(findOtherStrandSolution1(SampleDNA))"
   ]
  },
  {
   "attachments": {},
   "cell_type": "markdown",
   "metadata": {},
   "source": [
    " ## solution 2\n",
    "\n",
    "The code reverses the string argument, `DNA`. Then, for each character in `DNA`, the complimenting nucleobase is added to the string, `OtherStrand`. "
   ]
  },
  {
   "cell_type": "code",
   "execution_count": 30,
   "metadata": {},
   "outputs": [],
   "source": [
    "def FindOtherStrandSolution2(DNA):\n",
    "\n",
    "    DNA = \"\".join(reversed(DNA))\n",
    "    OtherStrand = \"\"\n",
    "\n",
    "    for i in range(0, len(DNA), 1):\n",
    "        if DNA[i] == \"A\":\n",
    "            OtherStrand += \"T\"\n",
    "        elif DNA[i] == \"T\":\n",
    "            OtherStrand += \"A\"\n",
    "        elif DNA[i] == \"C\":\n",
    "            OtherStrand += \"G\"\n",
    "        elif DNA[i] == \"G\":\n",
    "            OtherStrand += \"C\"\n",
    "            \n",
    "    return OtherStrand"
   ]
  }
 ],
 "metadata": {
  "kernelspec": {
   "display_name": "Python 3",
   "language": "python",
   "name": "python3"
  },
  "language_info": {
   "codemirror_mode": {
    "name": "ipython",
    "version": 3
   },
   "file_extension": ".py",
   "mimetype": "text/x-python",
   "name": "python",
   "nbconvert_exporter": "python",
   "pygments_lexer": "ipython3",
   "version": "3.9.13"
  },
  "orig_nbformat": 4
 },
 "nbformat": 4,
 "nbformat_minor": 2
}
