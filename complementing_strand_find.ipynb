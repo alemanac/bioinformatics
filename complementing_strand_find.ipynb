{
 "cells": [
  {
   "attachments": {},
   "cell_type": "markdown",
   "metadata": {},
   "source": [
    "# "
   ]
  },
  {
   "attachments": {},
   "cell_type": "markdown",
   "metadata": {},
   "source": [
    "# complimenting strand find\n",
    "\n",
    "finds a complimenting DNA strand to an inputed DNA strand"
   ]
  },
  {
   "attachments": {},
   "cell_type": "markdown",
   "metadata": {},
   "source": [
    " ## solution 1\n",
    "\n",
    "The code goes through each character in the argument, `DNA`, in reverse through a for loop. For each character, the complimenting nucleobase is added to the string, `otherStrand`."
   ]
  },
  {
   "cell_type": "code",
   "execution_count": 3,
   "metadata": {},
   "outputs": [],
   "source": [
    "def findOtherStrandSolution1(DNA):\n",
    "\n",
    "    otherStrand = \"\"\n",
    "\n",
    "    for i in range(len(DNA), 0, -1):\n",
    "        if DNA[i] == \"A\":\n",
    "            otherStrand += \"T\"\n",
    "        elif DNA[i] == \"T\":\n",
    "            otherStrand += \"A\"\n",
    "        elif DNA[i] == \"C\":\n",
    "            otherStrand += \"G\"\n",
    "        elif DNA[i] == \"G\":\n",
    "            otherStrand += \"C\"\n",
    "    \n",
    "    return otherStrand\n",
    "\n"
   ]
  },
  {
   "attachments": {},
   "cell_type": "markdown",
   "metadata": {},
   "source": [
    " ## solution 2\n",
    "\n",
    "The code goes through each character in the argument, `DNA`, in reverse through a for loop. For each character, the complimenting nucleobase is added to the string, `otherStrand`."
   ]
  },
  {
   "cell_type": "code",
   "execution_count": null,
   "metadata": {},
   "outputs": [],
   "source": []
  }
 ],
 "metadata": {
  "kernelspec": {
   "display_name": "Python 3",
   "language": "python",
   "name": "python3"
  },
  "language_info": {
   "codemirror_mode": {
    "name": "ipython",
    "version": 3
   },
   "file_extension": ".py",
   "mimetype": "text/x-python",
   "name": "python",
   "nbconvert_exporter": "python",
   "pygments_lexer": "ipython3",
   "version": "3.9.13"
  },
  "orig_nbformat": 4
 },
 "nbformat": 4,
 "nbformat_minor": 2
}
